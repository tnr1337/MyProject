{
  "nbformat": 4,
  "nbformat_minor": 0,
  "metadata": {
    "colab": {
      "provenance": [],
      "authorship_tag": "ABX9TyOqvdmbxkp49bbpUercpe9r",
      "include_colab_link": true
    },
    "kernelspec": {
      "name": "python3",
      "display_name": "Python 3"
    },
    "language_info": {
      "name": "python"
    }
  },
  "cells": [
    {
      "cell_type": "markdown",
      "metadata": {
        "id": "view-in-github",
        "colab_type": "text"
      },
      "source": [
        "<a href=\"https://colab.research.google.com/github/tnr1337/MyProject/blob/main/BTCindikat%C3%B6rlerleAlSat.ipynb\" target=\"_parent\"><img src=\"https://colab.research.google.com/assets/colab-badge.svg\" alt=\"Open In Colab\"/></a>"
      ]
    },
    {
      "cell_type": "markdown",
      "source": [
        "# **BTC İNDİKATÖRLERLE AL SAT UYGULAMASI**\n",
        "\n"
      ],
      "metadata": {
        "id": "94eeOP_DoHt0"
      }
    },
    {
      "cell_type": "markdown",
      "source": [
        "Bu projemizde kullanacağımız temel kütüphaneleri yüklüyoruz ve projemize dahil ediyoruz. İlk olarak, pip komutumuzla gerekli paketleri yüklüyoruz. Burada yfinance, pandas, numpy, plotly, dash ve datetime paketlerini indiriyoruz.\n",
        "\n",
        "Ardından, bu kütüphaneleri projemize import ediyoruz. yfinance'ı 'yf' kısa adıyla çağırıyoruz, bu bize finansal verileri çekmekte yardımcı olacak. pandas ve numpy, veri işleme ve analiz için vazgeçilmez araçlarımız. plotly ve onun alt modülleri, interaktif grafikler oluşturmamızı sağlayacak. dash ve ilgili modülleri ise web uygulamamızı oluşturmak için kullanacağız. Son olarak, datetime modülü tarih ve zaman işlemlerimiz için gerekli.\n",
        "\n",
        "Bu imports sayesinde, projemizin temel yapı taşlarını oluşturmuş oluyoruz ve artık veri çekme, işleme, görselleştirme ve web uygulaması oluşturma gibi ana işlevleri gerçekleştirebileceğiz."
      ],
      "metadata": {
        "id": "xrIRMMqHllbL"
      }
    },
    {
      "cell_type": "code",
      "execution_count": null,
      "metadata": {
        "id": "9TbdG1e9leL7"
      },
      "outputs": [],
      "source": [
        "!pip install yfinance pandas numpy plotly dash datetime\n",
        "import yfinance as yf\n",
        "import pandas as pd\n",
        "import numpy as np\n",
        "import plotly.graph_objs as go\n",
        "from plotly.subplots import make_subplots\n",
        "import dash\n",
        "from dash import dcc, html\n",
        "from dash.dependencies import Input, Output\n",
        "import datetime\n"
      ]
    },
    {
      "cell_type": "markdown",
      "source": [
        "Bu 'get_data()' fonksiyonu, Bitcoin'in son bir yıllık fiyat verilerini çekmek için tasarlanmıştır. Fonksiyon, şu anki tarihi bitiş tarihi olarak alır ve başlangıç tarihini bir yıl öncesi olarak hesaplar. Ardından, yfinance kütüphanesini kullanarak BTC-USD sembolü için günlük verileri indirir ve bu verileri geri döndürür. Bu sayede, her çağrıldığında en güncel bir yıllık Bitcoin verilerini elde ederiz, bu da grafiklerimiz ve analizlerimiz için temel oluşturur."
      ],
      "metadata": {
        "id": "w5pq1iGslxZT"
      }
    },
    {
      "cell_type": "code",
      "source": [
        "def get_data():\n",
        "    end_date = datetime.datetime.now()\n",
        "    start_date = end_date - datetime.timedelta(days=365)  # Son 1 yıllık veri\n",
        "    data = yf.download('BTC-USD', start=start_date, end=end_date, interval='1d')\n",
        "    return data"
      ],
      "metadata": {
        "id": "zvTghw5GlpuR"
      },
      "execution_count": null,
      "outputs": []
    },
    {
      "cell_type": "markdown",
      "source": [
        "Bu kod bloğu, üç önemli teknik analiz indikatörünü hesaplamak için fonksiyonlar içerir. 'calculate_sma' fonksiyonu, Basit Hareketli Ortalama (SMA) hesaplar ve belirtilen dönem için kapanış fiyatlarının ortalamasını alır. 'calculate_ema' fonksiyonu, Üstel Hareketli Ortalama (EMA) hesaplar, bu da daha yeni verilere daha fazla ağırlık verir. Son olarak, 'calculate_rsi' fonksiyonu Göreceli Güç İndeksi (RSI) hesaplar, bu indikatör fiyat momentumunu ölçer ve aşırı alım veya satım koşullarını belirlemede kullanılır. Bu fonksiyonlar, Bitcoin fiyat hareketlerini analiz etmek ve potansiyel alım-satım sinyalleri üretmek için kullanılacaktır."
      ],
      "metadata": {
        "id": "ip4iMvzJl5oh"
      }
    },
    {
      "cell_type": "code",
      "source": [
        "# İndikatör hesaplama fonksiyonları\n",
        "def calculate_sma(data, period):\n",
        "    return data['Close'].rolling(window=period).mean()\n",
        "\n",
        "def calculate_ema(data, period):\n",
        "    return data['Close'].ewm(span=period, adjust=False).mean()\n",
        "\n",
        "def calculate_rsi(data, period):\n",
        "    delta = data['Close'].diff()\n",
        "    gain = (delta.where(delta > 0, 0)).rolling(window=period).mean()\n",
        "    loss = (-delta.where(delta < 0, 0)).rolling(window=period).mean()\n",
        "    rs = gain / loss\n",
        "    return 100 - (100 / (1 + rs))\n"
      ],
      "metadata": {
        "id": "cpb5yBhclyOb"
      },
      "execution_count": null,
      "outputs": []
    },
    {
      "cell_type": "markdown",
      "source": [
        "Bu kod bloğu iki önemli bölümden oluşuyor. İlk olarak, 'generate_signals' fonksiyonu, 20 ve 50 günlük Basit Hareketli Ortalamalar (SMA) kullanarak alım-satım sinyalleri üretir. 20 günlük SMA'nın 50 günlük SMA'yı yukarı kesmesi durumunda alım sinyali, aşağı kesmesi durumunda ise satım sinyali oluşturur. İkinci bölümde, Dash uygulaması başlatılır ve temel düzeni oluşturulur. Uygulama, bir başlık, canlı güncellenen bir grafik ve her dakikada bir yenileme yapan bir zamanlayıcı içerir. Bu yapı, kullanıcıya interaktif ve sürekli güncellenen bir Bitcoin fiyat grafiği sunmayı amaçlar."
      ],
      "metadata": {
        "id": "YJafZ8MXmAch"
      }
    },
    {
      "cell_type": "code",
      "source": [
        "# Al-sat sinyalleri oluşturma fonksiyonu\n",
        "def generate_signals(data):\n",
        "    sma_20 = calculate_sma(data, 20)\n",
        "    sma_50 = calculate_sma(data, 50)\n",
        "\n",
        "    buy_signals = (sma_20 > sma_50) & (sma_20.shift(1) <= sma_50.shift(1))\n",
        "    sell_signals = (sma_20 < sma_50) & (sma_20.shift(1) >= sma_50.shift(1))\n",
        "\n",
        "    return buy_signals, sell_signals\n",
        "\n",
        "# Dash uygulamasını başlat\n",
        "app = dash.Dash(__name__)\n",
        "\n",
        "# Uygulama düzeni\n",
        "app.layout = html.Div([\n",
        "    html.H1(\"Bitcoin Fiyat Grafiği ve İndikatörler\"),\n",
        "    dcc.Graph(id='live-graph'),\n",
        "    dcc.Interval(\n",
        "        id='interval-component',\n",
        "        interval=60*1000,  # Her 1 dakikada bir güncelle\n",
        "        n_intervals=0\n",
        "    )\n",
        "])"
      ],
      "metadata": {
        "id": "eqrMCOs6l5GZ"
      },
      "execution_count": null,
      "outputs": []
    },
    {
      "cell_type": "markdown",
      "source": [
        "Bu kod bloğu, Dash uygulamasının kalbini oluşturan 'update_graph' callback fonksiyonunu içerir. Bu fonksiyon, her bir dakikada bir çağrılarak grafiği güncellemekten sorumludur. İlk olarak, güncel Bitcoin verilerini çeker ve bu veriler üzerinde SMA, EMA ve RSI indikatörlerini hesaplar. Ardından, önceden tanımladığımız alım-satım sinyallerini oluşturur.\n",
        "\n",
        "Grafik oluşturma kısmında, plotly kütüphanesi kullanılarak detaylı bir görselleştirme yapılır. Üst kısımda bir mum grafiği yer alır ve üzerine SMA ve EMA çizgileri eklenir. Alım-satım sinyalleri, grafikte üçgen işaretlerle gösterilir. Alt kısımda ise RSI göstergesi bulunur, 30 ve 70 seviyeleri aşırı alım ve satım bölgelerini belirtmek için çizilmiştir. Grafik, başlık, eksen etiketleri ve boyut ayarlarıyla son halini alır. Son olarak, uygulama debug modunda çalıştırılır. Bu yapı, kullanıcıya Bitcoin fiyatlarını, teknik indikatörleri ve alım-satım sinyallerini tek bir interaktif grafikte sunarak, kripto para piyasasını analiz etmek için güçlü bir araç sağlar."
      ],
      "metadata": {
        "id": "86TIV4PInZbI"
      }
    },
    {
      "cell_type": "code",
      "source": [
        "# Callback fonksiyonu\n",
        "@app.callback(Output('live-graph', 'figure'),\n",
        "              Input('interval-component', 'n_intervals'))\n",
        "def update_graph(n):\n",
        "    data = get_data()\n",
        "\n",
        "    # İndikatörleri hesapla\n",
        "    data['SMA20'] = calculate_sma(data, 20)\n",
        "    data['SMA50'] = calculate_sma(data, 50)\n",
        "    data['EMA20'] = calculate_ema(data, 20)\n",
        "    data['RSI'] = calculate_rsi(data, 14)\n",
        "\n",
        "    # Al-sat sinyallerini oluştur\n",
        "    buy_signals, sell_signals = generate_signals(data)\n",
        "\n",
        "    # Grafik oluştur\n",
        "    fig = make_subplots(rows=2, cols=1, shared_xaxes=True,\n",
        "                        vertical_spacing=0.1, row_heights=[0.7, 0.3])\n",
        "\n",
        "    # Mum grafiği\n",
        "    fig.add_trace(go.Candlestick(x=data.index,\n",
        "                open=data['Open'], high=data['High'],\n",
        "                low=data['Low'], close=data['Close'],\n",
        "                name='BTC-USD'), row=1, col=1)\n",
        "\n",
        "    # SMA ve EMA çizgileri\n",
        "    fig.add_trace(go.Scatter(x=data.index, y=data['SMA20'], name='SMA20', line=dict(color='blue')), row=1, col=1)\n",
        "    fig.add_trace(go.Scatter(x=data.index, y=data['SMA50'], name='SMA50', line=dict(color='red')), row=1, col=1)\n",
        "    fig.add_trace(go.Scatter(x=data.index, y=data['EMA20'], name='EMA20', line=dict(color='green')), row=1, col=1)\n",
        "\n",
        "    # Al-sat sinyalleri\n",
        "    fig.add_trace(go.Scatter(x=data.index[buy_signals], y=data['Low'][buy_signals],\n",
        "                             mode='markers', name='Al Sinyali',\n",
        "                             marker=dict(symbol='triangle-up', size=10, color='green')), row=1, col=1)\n",
        "    fig.add_trace(go.Scatter(x=data.index[sell_signals], y=data['High'][sell_signals],\n",
        "                             mode='markers', name='Sat Sinyali',\n",
        "                             marker=dict(symbol='triangle-down', size=10, color='red')), row=1, col=1)\n",
        "\n",
        "    # RSI göstergesi\n",
        "    fig.add_trace(go.Scatter(x=data.index, y=data['RSI'], name='RSI'), row=2, col=1)\n",
        "    fig.add_hline(y=30, line_dash=\"dash\", line_color=\"green\", row=2, col=1)\n",
        "    fig.add_hline(y=70, line_dash=\"dash\", line_color=\"red\", row=2, col=1)\n",
        "\n",
        "    fig.update_layout(title='Bitcoin Fiyat Grafiği ve İndikatörler',\n",
        "                      xaxis_title='Tarih',\n",
        "                      yaxis_title='Fiyat (USD)',\n",
        "                      height=800)\n",
        "\n",
        "    fig.update_yaxes(title_text=\"RSI\", row=2, col=1)\n",
        "\n",
        "    return fig\n",
        "\n",
        "if __name__ == '__main__':\n",
        "    app.run_server(debug=True)"
      ],
      "metadata": {
        "id": "za_XCc90mA87"
      },
      "execution_count": null,
      "outputs": []
    }
  ]
}